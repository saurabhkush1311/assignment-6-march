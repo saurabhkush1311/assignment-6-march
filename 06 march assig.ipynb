{
 "cells": [
  {
   "cell_type": "code",
   "execution_count": 1,
   "id": "0b332fcf-22b1-4f37-93b8-a8c657173bda",
   "metadata": {},
   "outputs": [],
   "source": [
    "#Question 1:\n",
    "#Answer: Statistics is the science of collecting,organising and analysing data.\n",
    "\n",
    "# It helps in decision making process\n",
    "# data --> \"Facts or pieces of information\"."
   ]
  },
  {
   "cell_type": "code",
   "execution_count": null,
   "id": "0932e4d0-d206-4ce5-acef-ec46196f9d38",
   "metadata": {},
   "outputs": [],
   "source": [
    "#Question2:\n",
    "#Answer:\n",
    "\n",
    "# There are basically two types of statistics:\n",
    "# 1. Descriptive Statistics. --> It uses to organiseing and summarising data.\n",
    "\"\"\" Suppose you have a dataset containing the ages of a group of students in a class. \n",
    "Descriptive statistics would be used to calculate the mean (average) age of the students, the median (middle value), the mode (most frequent age), and \n",
    "the standard deviation (dispersion of ages around the mean). Graphical representations like histograms or box plots could also be \n",
    "used to visualize the age distribution.\"\"\"\n",
    "# 2. Inferential Statistics. --> It consists of using data you have measure to form conclusion.\n",
    "\"\"\"Imagine you want to study the relationship between study hours and exam scores in a school. \n",
    "Instead of testing the entire student population, you might take a random sample of students and record their study hours and exam scores.\n",
    "Using inferential statistics, you can estimate the correlation between study hours and exam scores for the entire student population based on the sample data. \n",
    "Additionally, you could perform hypothesis testing to determine if there is a significant difference in exam scores between students who study more and those who study less.\"\"\""
   ]
  },
  {
   "cell_type": "code",
   "execution_count": 2,
   "id": "8027afdc-6713-45f4-85a1-07010b3d801d",
   "metadata": {},
   "outputs": [],
   "source": [
    "#Question3:\n",
    "#Answer:\n",
    "\n",
    "#data:\n",
    "#There two types of data:\n",
    "#1. Quantative Data: It consists of numerical data.\n",
    "                    #1. Discrete Data(whole number): ex. No. of Countries in Asia.\n",
    "                    #2. Continuous Data(any no.): ex. height of students.\n",
    "        \n",
    "#2. Qualitative Data: It consists of categorical data.\n",
    "                     #1. Nominal Data(order or rank does not matter): ex. Gender , Blood Group.\n",
    "                     #2. Ordinal Data(order or rank matters): ex. customer freedback."
   ]
  },
  {
   "cell_type": "code",
   "execution_count": 3,
   "id": "529bd6a9-981d-418d-a98c-d48f6f44c7e8",
   "metadata": {},
   "outputs": [],
   "source": [
    "#Question4:\n",
    "#Answer:\n",
    "\n",
    "# i) Qualitative (Ordinal).\n",
    "# ii) Qualitative (Nominal).\n",
    "# iii) Quantative (Continous).\n",
    "# iv) Quantative (Discrete)."
   ]
  },
  {
   "cell_type": "code",
   "execution_count": null,
   "id": "17ec5d5a-73bb-4514-b423-523f51b63636",
   "metadata": {},
   "outputs": [],
   "source": [
    "#Question5:\n",
    "#Answer:\n",
    "\n",
    "\"\"\"Levels of measurement, also known as scales of measurement or data types, refer to the different ways in which data can be categorized or measured. There are four primary levels of measurement: nominal, ordinal, interval, and ratio. Each level has its own characteristics and dictates the type of statistical analysis that can be applied to the data.\n",
    "\n",
    "Nominal Level of Measurement:\n",
    "At the nominal level, data is categorized into distinct, non-numeric categories or groups. There is no inherent order or ranking between the categories.\n",
    "Example: Eye color of individuals (e.g., blue, brown, green) is a nominal variable. Each category is independent of the others, and there is no inherent order among the different eye colors.\n",
    "\n",
    "Ordinal Level of Measurement:\n",
    "In the ordinal level, data is ranked or ordered, but the differences between the ranks are not necessarily uniform or quantifiable. It indicates the relative position or preference between categories.\n",
    "Example: Educational attainment level (e.g., high school diploma, bachelor's degree, master's degree, Ph.D.) is an ordinal variable. The categories are ordered, but the difference in educational level between, say, a high school diploma and a bachelor's degree is not necessarily the same as that between a master's degree and a Ph.D.\n",
    "\n",
    "Interval Level of Measurement:\n",
    "At the interval level, data is measured on a scale where the differences between values are consistent and meaningful, but there is no absolute zero point. Ratios are not meaningful at this level.\n",
    "Example: Temperature measured in Celsius or Fahrenheit is an interval variable. The difference between 20°C and 30°C is the same as the difference between 30°C and 40°C, but zero degrees Celsius does not mean the absence of temperature.\n",
    "\n",
    "Ratio Level of Measurement:\n",
    "In the ratio level, data is measured on a scale with a true zero point, and ratios between values are meaningful. All arithmetic operations can be performed on ratio data.\n",
    "Example: Weight (measured in kilograms) is a ratio variable. A weight of 0 kg represents the absence of weight, and ratios are meaningful; for instance, 10 kg is twice as heavy as 5 kg.\n",
    "\n",
    "Understanding the level of measurement is crucial because it determines the appropriate statistical methods that can be used for analysis. Nominal and ordinal data may require non-parametric tests, while interval and ratio data allow for more sophisticated statistical techniques such as regression and t-tests.\"\"\""
   ]
  },
  {
   "cell_type": "code",
   "execution_count": null,
   "id": "f56d529b-4d70-4145-b9fc-a1d8de1d257e",
   "metadata": {},
   "outputs": [],
   "source": [
    "#Question6:\n",
    "#Answer:\n",
    "\n",
    "\"\"\"Understanding the level of measurement is crucial when analyzing data because it dictates the appropriate statistical methods that can be used for analysis. Different levels of measurement have different properties, and applying the wrong statistical technique can lead to incorrect conclusions and misleading interpretations. Here's an example to illustrate the importance of understanding the level of measurement:\n",
    "\n",
    "Example:\n",
    "Suppose we have data on the favorite colors of a group of individuals. The data is as follows:\n",
    "\n",
    "Alex - Blue\n",
    "Bella - Green\n",
    "Chris - Red\n",
    "David - Blue\n",
    "Emma - Green\n",
    "Frank - Red\n",
    "We want to analyze this data to understand the distribution of favorite colors in the group. Let's explore the consequences of using different levels of measurement for this analysis:\n",
    "\n",
    "Nominal Level:\n",
    "If we treat favorite colors as a nominal variable, we can calculate the frequency or proportion of each color in the data. We might say that there are 2 individuals who like Blue, 2 who like Green, and 2 who like Red. However, at the nominal level, we cannot calculate measures like the mean or standard deviation.\n",
    "\n",
    "Ordinal Level:\n",
    "If we mistakenly treat favorite colors as an ordinal variable, we might attempt to assign an order to the colors (e.g., Blue < Green < Red). However, this would be inappropriate because colors do not have a natural ordering, and it would lead to incorrect interpretations.\n",
    "\n",
    "Interval Level:\n",
    "If we consider favorite colors as an interval variable, we might mistakenly apply statistical techniques like calculating the mean favorite color. For instance, we might average the numeric codes assigned to each color (e.g., Blue = 1, Green = 2, Red = 3) and incorrectly conclude that the mean favorite color is \"2,\" which does not correspond to any color in the data.\n",
    "\n",
    "Ratio Level:\n",
    "Favorite colors cannot be considered a ratio variable since there is no true zero point and no meaningful ratios between colors.\n",
    "\n",
    "Correct Approach:\n",
    "To accurately analyze this data, we must recognize that favorite colors are nominal data, and therefore, we can only use appropriate descriptive statistics like frequencies or proportions. For example, we can report that there are an equal number of individuals who like each color.\"\"\""
   ]
  },
  {
   "cell_type": "code",
   "execution_count": 4,
   "id": "804719f5-1a2a-4f37-9e48-470460c605ce",
   "metadata": {},
   "outputs": [],
   "source": [
    "#Question7:\n",
    "#Answer:\n",
    "\n",
    "# nominal data type is different from ordinal data type because in nominal data type order or ranking doesn't matter but in ordinal data type ranking matters."
   ]
  },
  {
   "cell_type": "code",
   "execution_count": null,
   "id": "33bce3bf-c4f6-4f55-b2db-4dfbf07079aa",
   "metadata": {},
   "outputs": [],
   "source": [
    "#Question8:\n",
    "#Answer:\n",
    "\n",
    "\"\"\"\n",
    "A box plot, also known as a box-and-whisker plot, is a type of plot that can be used to display data in terms of range. It provides a visual representation of the distribution of a dataset, showing the spread, central tendency, and potential outliers.\"\"\""
   ]
  },
  {
   "cell_type": "code",
   "execution_count": null,
   "id": "188cb6c6-c472-4ccc-80fd-1eadad6b9730",
   "metadata": {},
   "outputs": [],
   "source": [
    "#Question9:\n",
    "#Answer:\n",
    "#1. descriptive statistics are used to summarize and describe the characteristics of data.\n",
    "#2. inferential statistics are used to make predictions or draw conclusions about a larger population based on a smaller sample of data.\n",
    "\n",
    "\"\"\"Example of Descriptive Statistics:\n",
    "Suppose we have a dataset containing the ages of a group of people: [25, 30, 22, 40, 28, 35, 21, 27]. Descriptive statistics for this dataset would include measures such as the mean (average) age, which is calculated by summing all the ages and dividing by the number of data points (e.g., (25+30+22+40+28+35+21+27) / 8 = 29.375). Other descriptive measures might include the median (middle value), mode (most frequent age), and standard deviation (a measure of the dispersion of ages around the mean).\n",
    "\n",
    "Example of Inferential Statistics:\n",
    "Suppose we want to know the average salary of employees in a company. Instead of surveying the entire company (which might be time-consuming and impractical), we take a random sample of employees and record their salaries. Using inferential statistics, we can estimate the average salary for the entire workforce based on the sample data. Techniques like confidence intervals and hypothesis testing can be used to determine how confident we are in our estimation and whether there is a significant difference in salaries between different groups of employees.\"\"\""
   ]
  },
  {
   "cell_type": "code",
   "execution_count": null,
   "id": "fcd51d29-c8a4-4bff-8051-8b3f0efe8726",
   "metadata": {},
   "outputs": [],
   "source": [
    "#Question10:\n",
    "#Answer:\n",
    "\n",
    "\"\"\"\n",
    "Measures of Central Tendency:\n",
    "Measures of central tendency are used to describe the central or typical value of a dataset. They provide a single representative value around which the data tends to cluster. The three common measures of central tendency are:\n",
    "\n",
    "Mean: The mean is the most commonly used measure of central tendency. It is calculated by adding up all the values in the dataset and dividing the sum by the total number of data points. The mean is sensitive to extreme values (outliers) and gives an idea of the average value of the data.\n",
    "Usage: The mean is useful when you want to know the average value of a dataset. For example, it can be used to calculate the average score in an exam, the average temperature for a month, or the average income in a population.\n",
    "\n",
    "Median: The median is the middle value in a sorted dataset. If the number of data points is odd, the median is the middle value itself; if the number of data points is even, the median is the average of the two middle values. The median is less affected by extreme values compared to the mean and gives a better representation of the central value when the data is skewed.\n",
    "Usage: The median is particularly useful when the dataset contains extreme values or is not normally distributed. For example, it can be used to find the middle salary in a company, the median age in a group of people, or the median response time in a sample of data.\n",
    "\n",
    "Mode: The mode is the value that appears most frequently in a dataset. A dataset can have one mode (unimodal), two modes (bimodal), or more (multimodal). If all values occur with the same frequency, the dataset is considered to be \"no mode\" or \"non-modal.\"\n",
    "Usage: The mode is beneficial when you want to identify the most common value or category in a dataset. For instance, it can be used to find the most frequently purchased item in a store, the mode of transportation used by people, or the most common blood type in a group.\n",
    "\n",
    "Measures of Variability:\n",
    "Measures of variability are used to describe the dispersion or spread of data points around the central value. They indicate how much the individual data points deviate from the central tendency. The common measures of variability are:\n",
    "\n",
    "Range: The range is the simplest measure of variability. It is calculated by subtracting the minimum value from the maximum value in the dataset. The range gives an idea of the total spread of the data.\n",
    "Usage: The range is useful when you want a quick understanding of the data spread. For example, it can be used to determine the range of test scores in a class, the range of temperatures recorded during a day, or the range of prices for a product.\n",
    "\n",
    "Variance: Variance is a more comprehensive measure of variability. It measures the average squared deviation of each data point from the mean. A higher variance indicates more dispersion in the data.\n",
    "Usage: Variance is commonly used in statistical analysis and modeling. It helps in comparing the variability of different datasets or groups. For instance, it can be used to assess the variability of investment returns, the variability of product sales across different regions, or the variability of exam scores in two different schools.\n",
    "\n",
    "Standard Deviation: The standard deviation is the square root of the variance. It provides a more interpretable measure of variability, as it is in the same unit as the data. A higher standard deviation indicates greater spread or dispersion of data points from the mean.\n",
    "Usage: The standard deviation is widely used in statistics and data analysis. It helps to identify the typical deviation of data points from the mean. For example, it can be used to describe the variability of weight in a group of people, the variability of monthly sales figures for a business, or the variability of response times in a system.\n",
    "\n",
    "These measures of central tendency and variability are essential tools in statistical analysis, as they help to summarize and interpret data, identify patterns or trends, and make informed decisions based on the characteristics of the dataset.\n",
    "\n",
    "\n",
    "\n",
    "\n",
    "\"\"\""
   ]
  }
 ],
 "metadata": {
  "kernelspec": {
   "display_name": "Python 3 (ipykernel)",
   "language": "python",
   "name": "python3"
  },
  "language_info": {
   "codemirror_mode": {
    "name": "ipython",
    "version": 3
   },
   "file_extension": ".py",
   "mimetype": "text/x-python",
   "name": "python",
   "nbconvert_exporter": "python",
   "pygments_lexer": "ipython3",
   "version": "3.10.6"
  }
 },
 "nbformat": 4,
 "nbformat_minor": 5
}
